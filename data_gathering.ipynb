{
 "cells": [
  {
   "cell_type": "code",
   "execution_count": 1,
   "id": "40fffd0d",
   "metadata": {},
   "outputs": [],
   "source": [
    "import pandas as pd\n",
    "from transformers import pipeline, PegasusTokenizer, PegasusForConditionalGeneration, TFPegasusForConditionalGeneration\n",
    "from all_companies_news import *\n",
    "from tqdm import tqdm\n",
    "from datetime import datetime, timedelta\n",
    "import yfinance as yf\n",
    "import math\n",
    "from math import pi"
   ]
  },
  {
   "cell_type": "code",
   "execution_count": 2,
   "id": "614ae2c6",
   "metadata": {},
   "outputs": [],
   "source": [
    "model_path = \"mrm8488/distilroberta-finetuned-financial-news-sentiment-analysis\"\n",
    "model = pipeline(\"text-classification\", model=model_path , tokenizer=model_path, max_length=600, truncation=True)"
   ]
  },
  {
   "cell_type": "code",
   "execution_count": 3,
   "id": "6278e505",
   "metadata": {},
   "outputs": [],
   "source": [
    "model_name = \"human-centered-summarization/financial-summarization-pegasus\"\n",
    "tokenizer = PegasusTokenizer.from_pretrained(model_name)\n",
    "summarizer = PegasusForConditionalGeneration.from_pretrained(model_name) # If you want to use the Tensorflow model "
   ]
  },
  {
   "cell_type": "code",
   "execution_count": 4,
   "id": "137caf40",
   "metadata": {},
   "outputs": [],
   "source": [
    "companies = ['AAPL', 'ABBV', 'ABT', 'ACN', 'ADBE', 'AIG', 'AMD', 'AMGN', 'AMT', 'AMZN', 'AVGO', 'AXP', 'BA', 'BAC', 'BK', 'BKNG', 'BLK', 'BMY', 'BRK.B', 'C', 'CAT', 'CHTR', 'CL', 'CMCSA', 'COF', 'COP', 'COST', 'CRM', 'CSCO', 'CVS', 'CVX', 'DHR', 'DIS', 'DOW', 'DUK', 'EMR', 'EXC', 'F', 'FDX', 'GD', 'GE', 'GILD', 'GM', 'GOOG', 'GOOGL', 'GS', 'HD', 'HON', 'IBM', 'INTC', 'JNJ', 'JPM', 'KHC', 'KO', 'LIN', 'LLY', 'LMT', 'LOW', 'MA', 'MCD']"
   ]
  },
  {
   "cell_type": "code",
   "execution_count": 5,
   "id": "34d2b7d9",
   "metadata": {},
   "outputs": [],
   "source": [
    "day_of_week = []\n",
    "day = []\n",
    "month = []\n",
    "year = []\n",
    "sentiment = []\n",
    "output_class = []\n",
    "symbol = []"
   ]
  },
  {
   "cell_type": "code",
   "execution_count": null,
   "id": "cc3bf2a7",
   "metadata": {},
   "outputs": [],
   "source": [
    "for c in tqdm(companies):\n",
    "    for news in (comp[c]):\n",
    "        act_date = datetime.fromtimestamp(news['datetime'])\n",
    "        article = news['summary']\n",
    "        day_of_week.append(act_date.weekday())\n",
    "        day.append(act_date.day)\n",
    "        month.append(act_date.month)\n",
    "        year.append(act_date.year)\n",
    "        score = model(article)\n",
    "        sentiment.append(score[0]['label'])\n",
    "        symbol.append(c)\n",
    "        start_date = None\n",
    "        end_date = None\n",
    "        if act_date.weekday() == 5:\n",
    "        #initial price to be considered is closing price of friday and closing price of monday\n",
    "            start_date = (act_date-timedelta(days=1)).strftime(\"%Y-%m-%d\")\n",
    "            end_date = (act_date+timedelta(days=3)).strftime(\"%Y-%m-%d\")\n",
    "            data = yf.download(c, start=start_date, end=end_date)\n",
    "            while(len(data) == 0):\n",
    "                start_date = (datetime.strptime(start_date,\"%Y-%m-%d\")-timedelta(days=1)).strftime(\"%Y-%m-%d\")\n",
    "                data = yf.download(c, start=start_date, end=end_date)\n",
    "            start_price = data['Close'].values[0]\n",
    "            while(len(data) == 1):\n",
    "                end_date = (datetime.strptime(end_date,\"%Y-%m-%d\")+timedelta(days=1)).strftime(\"%Y-%m-%d\")\n",
    "                data = yf.download(c, start=start_date, end=end_date)\n",
    "            end_price = data['Close'].values[1]\n",
    "            if end_price-start_price>0: output_class.append(1)\n",
    "            else: output_class.append(0)\n",
    "        elif act_date.weekday() == 6:\n",
    "        #initial price to be considered is closing price of friday and closing price of monday\n",
    "            start_date = (act_date-timedelta(days=2)).strftime(\"%Y-%m-%d\")\n",
    "            end_date = (act_date+timedelta(days=2)).strftime(\"%Y-%m-%d\")\n",
    "            data = yf.download(c, start=start_date, end=end_date)\n",
    "            while(len(data) == 0):\n",
    "                start_date = (datetime.strptime(start_date,\"%Y-%m-%d\")-timedelta(days=1)).strftime(\"%Y-%m-%d\")\n",
    "                data = yf.download(c, start=start_date, end=end_date)\n",
    "            start_price = data['Close'].values[0]\n",
    "            while(len(data) == 1):\n",
    "                end_date = (datetime.strptime(end_date,\"%Y-%m-%d\")+timedelta(days=1)).strftime(\"%Y-%m-%d\")\n",
    "                data = yf.download(c, start=start_date, end=end_date)\n",
    "            end_price = data['Close'].values[1]\n",
    "            if end_price-start_price>0: output_class.append(1)\n",
    "            else: output_class.append(0)\n",
    "        else:\n",
    "            start_date = act_date.strftime(\"%Y-%m-%d\")\n",
    "            end_date = (act_date+timedelta(days=1)).strftime(\"%Y-%m-%d\")\n",
    "            data = yf.download(c, start=start_date, end=end_date)\n",
    "            while(len(data) == 0):\n",
    "                start_date = (datetime.strptime(start_date,\"%Y-%m-%d\")+timedelta(days=1)).strftime(\"%Y-%m-%d\")\n",
    "                end_date = (datetime.strptime(end_date,\"%Y-%m-%d\")+timedelta(days=1)).strftime(\"%Y-%m-%d\")\n",
    "                data = yf.download(c, start=start_date, end=end_date)\n",
    "            start_price = data['Open'].values[0]\n",
    "            end_price = data['Close'].values[0]\n",
    "            if end_price-start_price>0: output_class.append(1)\n",
    "            else: output_class.append(0)"
   ]
  },
  {
   "cell_type": "code",
   "execution_count": 29,
   "id": "9b15ce9f",
   "metadata": {},
   "outputs": [],
   "source": [
    "temp = pd.DataFrame()"
   ]
  },
  {
   "cell_type": "code",
   "execution_count": 30,
   "id": "47dd621f",
   "metadata": {},
   "outputs": [],
   "source": [
    "temp['day_of_week'] = day_of_week\n",
    "temp['day'] = day\n",
    "temp['month'] = month\n",
    "temp['year'] = year\n",
    "temp['sentiment'] = sentiment\n",
    "temp['symbol'] = symbol\n",
    "temp['output_class'] = output_class"
   ]
  },
  {
   "cell_type": "code",
   "execution_count": 32,
   "id": "e56c45a4",
   "metadata": {},
   "outputs": [],
   "source": [
    "def one_hot_sentiment(sentiment, neg:list, neu:list, pos:list):\n",
    "    if sentiment == 'negative':\n",
    "        neg.append(1)\n",
    "        neu.append(0)\n",
    "        pos.append(0)\n",
    "    elif sentiment == 'positive':\n",
    "        neg.append(0)\n",
    "        neu.append(0)\n",
    "        pos.append(1)\n",
    "    else:\n",
    "        neg.append(0)\n",
    "        neu.append(1)\n",
    "        pos.append(0)\n"
   ]
  },
  {
   "cell_type": "code",
   "execution_count": 34,
   "id": "bdb3e4c3",
   "metadata": {},
   "outputs": [],
   "source": [
    "def transform_month(column):\n",
    "  max_value = 12\n",
    "  sin_values = [math.sin((2*pi*x)/max_value) for x in list(column)]\n",
    "  cos_values = [math.cos((2*pi*x)/max_value) for x in list(column)]\n",
    "  return sin_values, cos_values"
   ]
  },
  {
   "cell_type": "code",
   "execution_count": 35,
   "id": "3f5db780",
   "metadata": {},
   "outputs": [],
   "source": [
    "def transformation(column):\n",
    "  max_value = column.max()\n",
    "  sin_values = [math.sin((2*pi*x)/max_value) for x in list(column)]\n",
    "  cos_values = [math.cos((2*pi*x)/max_value) for x in list(column)]\n",
    "  return sin_values, cos_values"
   ]
  },
  {
   "cell_type": "code",
   "execution_count": 51,
   "id": "5a3c5fb6",
   "metadata": {},
   "outputs": [],
   "source": [
    "neg = []\n",
    "neu = []\n",
    "pos = []"
   ]
  },
  {
   "cell_type": "code",
   "execution_count": 52,
   "id": "553fb989",
   "metadata": {},
   "outputs": [],
   "source": [
    "day_sin, day_cos = transformation(temp['day'])\n",
    "month_sin, month_cos = transform_month(temp['month'])\n",
    "day_of_week_sin, day_of_week_cos = transformation(temp['day_of_week'])"
   ]
  },
  {
   "cell_type": "code",
   "execution_count": 53,
   "id": "78231c4f",
   "metadata": {},
   "outputs": [],
   "source": [
    "symbol_dict = {}\n",
    "for s in range(len(companies)):\n",
    "    symbol_dict[companies[s]] = s+1"
   ]
  },
  {
   "cell_type": "code",
   "execution_count": 54,
   "id": "c66f97ab",
   "metadata": {},
   "outputs": [],
   "source": [
    "symbol_numerical = []\n",
    "for index, row in temp.iterrows():\n",
    "    one_hot_sentiment(row['sentiment'], neg, neu, pos)\n",
    "    symbol_numerical.append(symbol_dict[row['symbol']])"
   ]
  },
  {
   "cell_type": "code",
   "execution_count": 55,
   "id": "82e8690f",
   "metadata": {},
   "outputs": [],
   "source": [
    "df_out = pd.DataFrame()\n",
    "df_out['day_sin'] = day_sin\n",
    "df_out['day_cos'] = day_cos\n",
    "df_out['month_sin'] = month_sin\n",
    "df_out['month_cos'] = month_cos\n",
    "df_out['year'] = temp['year']\n",
    "df_out['day_of_week_sin'] = day_of_week_sin\n",
    "df_out['day_of_week_cos'] = day_of_week_cos\n",
    "df_out['symbol'] = symbol_numerical\n",
    "df_out['negative'] = neg\n",
    "df_out['neutral'] = neu\n",
    "df_out['positive'] = pos\n",
    "df_out['class'] = output_class"
   ]
  },
  {
   "cell_type": "code",
   "execution_count": 58,
   "id": "a86fb46e",
   "metadata": {},
   "outputs": [],
   "source": [
    "df_out.to_csv('large.csv', index=False)"
   ]
  },
  {
   "cell_type": "code",
   "execution_count": null,
   "id": "e228f37a",
   "metadata": {},
   "outputs": [],
   "source": []
  }
 ],
 "metadata": {
  "kernelspec": {
   "display_name": "Python 3 (ipykernel)",
   "language": "python",
   "name": "python3"
  },
  "language_info": {
   "codemirror_mode": {
    "name": "ipython",
    "version": 3
   },
   "file_extension": ".py",
   "mimetype": "text/x-python",
   "name": "python",
   "nbconvert_exporter": "python",
   "pygments_lexer": "ipython3",
   "version": "3.8.10"
  }
 },
 "nbformat": 4,
 "nbformat_minor": 5
}
